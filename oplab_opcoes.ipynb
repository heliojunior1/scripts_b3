{
  "nbformat": 4,
  "nbformat_minor": 0,
  "metadata": {
    "colab": {
      "provenance": [],
      "authorship_tag": "ABX9TyM8kRiBq5nFg5NV9gqwOomf",
      "include_colab_link": true
    },
    "kernelspec": {
      "name": "python3",
      "display_name": "Python 3"
    },
    "language_info": {
      "name": "python"
    }
  },
  "cells": [
    {
      "cell_type": "markdown",
      "metadata": {
        "id": "view-in-github",
        "colab_type": "text"
      },
      "source": [
        "<a href=\"https://colab.research.google.com/github/heliojunior1/scripts_b3/blob/main/oplab_opcoes.ipynb\" target=\"_parent\"><img src=\"https://colab.research.google.com/assets/colab-badge.svg\" alt=\"Open In Colab\"/></a>"
      ]
    },
    {
      "cell_type": "code",
      "execution_count": null,
      "metadata": {
        "colab": {
          "base_uri": "https://localhost:8080/"
        },
        "id": "keU3DlfX0itk",
        "outputId": "3c355dbb-234b-48d4-e488-3a4a4475f3f1"
      },
      "outputs": [
        {
          "output_type": "stream",
          "name": "stdout",
          "text": [
            "Requirement already satisfied: requests in /usr/local/lib/python3.11/dist-packages (2.32.3)\n",
            "Collecting python-dotenv\n",
            "  Downloading python_dotenv-1.1.1-py3-none-any.whl.metadata (24 kB)\n",
            "Requirement already satisfied: charset-normalizer<4,>=2 in /usr/local/lib/python3.11/dist-packages (from requests) (3.4.2)\n",
            "Requirement already satisfied: idna<4,>=2.5 in /usr/local/lib/python3.11/dist-packages (from requests) (3.10)\n",
            "Requirement already satisfied: urllib3<3,>=1.21.1 in /usr/local/lib/python3.11/dist-packages (from requests) (2.5.0)\n",
            "Requirement already satisfied: certifi>=2017.4.17 in /usr/local/lib/python3.11/dist-packages (from requests) (2025.7.14)\n",
            "Downloading python_dotenv-1.1.1-py3-none-any.whl (20 kB)\n",
            "Installing collected packages: python-dotenv\n",
            "Successfully installed python-dotenv-1.1.1\n"
          ]
        }
      ],
      "source": [
        "!pip install requests python-dotenv"
      ]
    },
    {
      "cell_type": "code",
      "source": [
        "import requests\n",
        "from google.colab import userdata # For Colab secrets\n",
        "from datetime import datetime, timedelta\n",
        "\n",
        "def carregar_credenciais_colab():\n",
        "    \"\"\"Loads OPLAB email and password from Colab secrets.\"\"\"\n",
        "    email = userdata.get(\"OPLAB_EMAIL\")\n",
        "    senha = userdata.get(\"OPLAB_SENHA\")\n",
        "    if not email or not senha:\n",
        "        raise ValueError(\"Credenciais 'OPLAB_EMAIL' ou 'OPLAB_SENHA' não encontradas nos Secrets do Colab. \"\n",
        "                         \"Por favor, configure-as conforme as instruções acima (clique no ícone de chave 🔑 na barra lateral).\")\n",
        "    return email, senha\n",
        "\n",
        "def autenticar(email, senha):\n",
        "    url = \"https://api.oplab.com.br/v3/domain/users/authenticate\"\n",
        "    payload = {\"email\": email, \"password\": senha}\n",
        "    resp = requests.post(url, json=payload)\n",
        "    if resp.status_code != 200:\n",
        "        raise Exception(f\"Erro na autenticação: {resp.status_code} - {resp.text}\")\n",
        "    token = resp.json().get(\"access-token\")\n",
        "    if not token:\n",
        "        raise Exception(\"Access token não encontrado na resposta da autenticação.\")\n",
        "    return token\n",
        "\n",
        "def obter_opcoes(token, ativo):\n",
        "    url = f\"https://api.oplab.com.br/v3/market/options/{ativo}\"\n",
        "    headers = {\"Access-Token\": token}\n",
        "    resp = requests.get(url, headers=headers)\n",
        "    if resp.status_code != 200:\n",
        "        raise Exception(f\"Erro ao obter opções: {resp.status_code} - {resp.text}\")\n",
        "    data = resp.json()\n",
        "    if not isinstance(data, list):\n",
        "        raise Exception(f\"Resposta inesperada ao obter opções: {data}\")\n",
        "    return data\n",
        "\n",
        "def converter_float(valor):\n",
        "    try:\n",
        "        return float(valor)\n",
        "    except (ValueError, TypeError):\n",
        "        return None\n",
        "\n",
        "def filtrar_opcoes(opcoes, config):\n",
        "    filtradas = []\n",
        "    for opcao in opcoes:\n",
        "        if not opcao.get(\"due_date\"):\n",
        "            continue\n",
        "        try:\n",
        "            vencimento = datetime.strptime(opcao[\"due_date\"], \"%Y-%m-%d\")\n",
        "        except Exception:\n",
        "            continue\n",
        "        if vencimento > config[\"vencimento_maximo\"]:\n",
        "            continue\n",
        "        if opcao.get(\"type\", \"\").upper() != config[\"tipo_opcao_filtro\"].upper():\n",
        "            continue\n",
        "        if not opcao.get(\"last_trade_at\"): # Check if last_trade_at exists\n",
        "            continue\n",
        "\n",
        "        ultimo_preco = converter_float(opcao.get(\"close\"))\n",
        "        preco_venda = converter_float(opcao.get(\"ask\"))\n",
        "        quantidade = converter_float(opcao.get(\"ask_volume\"))\n",
        "\n",
        "        if None in (ultimo_preco, preco_venda, quantidade):\n",
        "            continue\n",
        "        if 0.0 in (ultimo_preco, preco_venda, quantidade): # Explicitly check for 0.0\n",
        "            continue\n",
        "\n",
        "        try:\n",
        "            # OPLab API returns timestamp in milliseconds\n",
        "            last_trade = datetime.fromtimestamp(opcao[\"last_trade_at\"] / 1000)\n",
        "        except Exception:\n",
        "            continue\n",
        "\n",
        "        if last_trade < datetime.now() - timedelta(days=config[\"days_ignorar\"]):\n",
        "            continue\n",
        "\n",
        "        limite_superior = ultimo_preco * (1 + config[\"percentual\"] / 100)\n",
        "        valor_total = preco_venda * quantidade\n",
        "        pct_venda_ultimo = ((preco_venda / ultimo_preco) - 1) * 100 if ultimo_preco > 0 else 0\n",
        "\n",
        "        if preco_venda <= limite_superior and valor_total >= config[\"valor_minimo_negociavel\"]:\n",
        "            filtradas.append({\n",
        "                \"nome\": opcao[\"symbol\"],\n",
        "                \"tipo\": opcao[\"type\"],\n",
        "                \"vencimento\": opcao[\"due_date\"],\n",
        "                \"ultimo_preco\": ultimo_preco,\n",
        "                \"preco_venda\": preco_venda,\n",
        "                \"quantidade_disponivel\": quantidade,\n",
        "                \"valor_total_negociavel\": valor_total,\n",
        "                \"percentual_venda_sobre_ultimo\": pct_venda_ultimo,\n",
        "                \"ultima_negociacao\": last_trade.strftime(\"%Y-%m-%d %H:%M:%S\")\n",
        "            })\n",
        "    return filtradas\n",
        "\n",
        "def exibir_opcoes(opcoes, ativo, percentual, valor_minimo):\n",
        "    if not opcoes:\n",
        "        print(f\"Não foram encontradas opções de {ativo} que atendam aos critérios especificados (incluindo valor total negociável mínimo de R$ {valor_minimo:.2f}).\")\n",
        "        return\n",
        "    opcoes.sort(key=lambda x: x[\"valor_total_negociavel\"], reverse=True)\n",
        "    print(f\"\\nOpções de {ativo} com preço de venda até {percentual}% acima do último preço negociado, preços não nulos e valor total negociável mínimo de R$ {valor_minimo:.2f}:\")\n",
        "    for o in opcoes:\n",
        "        print(\n",
        "            f\"{o['nome']} - {o['tipo']}- {o['vencimento']} - \"\n",
        "            f\"LAST:{o['ultimo_preco']:.2f} -  ASK:{o['preco_venda']:.2f} - \"\n",
        "            f\"PCT:{o['percentual_venda_sobre_ultimo']:.2f}% - \"\n",
        "            f\"DTHLAST: {o['ultima_negociacao']} -  \"\n",
        "            f\"QuantD: {o['quantidade_disponivel']:.0f}, \" # Format quantity as integer\n",
        "            f\"VTD: R$ {o['valor_total_negociavel']:.2f}\"\n",
        "        )\n"
      ],
      "metadata": {
        "id": "FEAdtW4100S3"
      },
      "execution_count": null,
      "outputs": []
    },
    {
      "cell_type": "code",
      "source": [],
      "metadata": {
        "id": "l7bR9dxraC1r"
      },
      "execution_count": null,
      "outputs": []
    },
    {
      "cell_type": "code",
      "source": [],
      "metadata": {
        "id": "NhKnxZLoRj3b"
      },
      "execution_count": null,
      "outputs": []
    },
    {
      "cell_type": "code",
      "source": [
        "def run_analysis():\n",
        "    # Configuration for the analysis - adjust as needed\n",
        "    config = {\n",
        "        \"ativo\": \"VALE3\",  # Asset to analyze (e.g., \"PETR4\", \"VALE3\")\n",
        "        \"percentual\": 30,  # Max percentage above last price for sell price (e.g., 30 for 30%)\n",
        "        \"valor_minimo_negociavel\": 600,  # Minimum negotiable total value (e.g., 100 for R$100)\n",
        "        \"tipo_opcao_filtro\": \"PUT\",  # Type of option: \"CALL\" or \"PUT\"\n",
        "        \"days_ignorar\": 4,  # Ignore options not traded in the last X days\n",
        "        \"vencimento_maximo\": datetime.strptime(\"2025-12-20\", \"%Y-%m-%d\") # Max expiration date (YYYY-MM-DD)\n",
        "    }\n",
        "    try:\n",
        "        print(\"Carregando credenciais do Colab Secrets...\")\n",
        "        email, senha = carregar_credenciais_colab() # Use the Colab-specific function\n",
        "\n",
        "        print(\"Autenticando com a API OPLab...\")\n",
        "        token = autenticar(email, senha)\n",
        "        print(\"Autenticação bem-sucedida.\")\n",
        "\n",
        "        print(f\"Obtendo opções para o ativo {config['ativo']}...\")\n",
        "        opcoes = obter_opcoes(token, config[\"ativo\"])\n",
        "        print(f\"Total de {len(opcoes)} opções recebidas da API.\")\n",
        "\n",
        "        print(\"Filtrando opções com base nos critérios definidos...\")\n",
        "        filtradas = filtrar_opcoes(opcoes, config)\n",
        "        print(f\"{len(filtradas)} opções atendem aos critérios após a filtragem.\")\n",
        "\n",
        "        exibir_opcoes(filtradas, config[\"ativo\"], config[\"percentual\"], config[\"valor_minimo_negociavel\"])\n",
        "\n",
        "    except ValueError as ve: # Specific handling for credential errors from carregar_credenciais_colab\n",
        "        print(f\"Erro de Configuração: {ve}\")\n",
        "    except Exception as e:\n",
        "        print(f\"Ocorreu um erro durante a execução: {e}\")\n",
        "\n",
        "# Run the analysis\n",
        "if __name__ == '__main__': # Standard way to run main logic, works well in Colab too\n",
        "    run_analysis()"
      ],
      "metadata": {
        "colab": {
          "base_uri": "https://localhost:8080/"
        },
        "id": "RpIV9Pl95ePs",
        "outputId": "9a053039-6e72-40c2-9492-8890e102ba0f"
      },
      "execution_count": null,
      "outputs": [
        {
          "output_type": "stream",
          "name": "stdout",
          "text": [
            "Carregando credenciais do Colab Secrets...\n",
            "Autenticando com a API OPLab...\n",
            "Autenticação bem-sucedida.\n",
            "Obtendo opções para o ativo VALE3...\n",
            "Total de 2286 opções recebidas da API.\n",
            "Filtrando opções com base nos critérios definidos...\n",
            "3 opções atendem aos critérios após a filtragem.\n",
            "\n",
            "Opções de VALE3 com preço de venda até 30% acima do último preço negociado, preços não nulos e valor total negociável mínimo de R$ 600.00:\n",
            "VALET570W1 - PUT- 2025-08-01 - LAST:1.66 -  ASK:2.00 - PCT:20.48% - DTHLAST: 2025-07-28 09:05:13 -  QuantD: 2900, VTD: R$ 5800.00\n",
            "VALEU588 - PUT- 2025-09-19 - LAST:3.18 -  ASK:3.88 - PCT:22.01% - DTHLAST: 2025-07-28 09:05:11 -  QuantD: 1000, VTD: R$ 3880.00\n",
            "VALEX600 - PUT- 2025-12-19 - LAST:2.81 -  ASK:2.82 - PCT:0.36% - DTHLAST: 2025-07-28 09:05:11 -  QuantD: 500, VTD: R$ 1410.00\n"
          ]
        }
      ]
    }
  ]
}